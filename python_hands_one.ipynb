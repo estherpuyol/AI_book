{
 "cells": [
  {
   "attachments": {},
   "cell_type": "markdown",
   "metadata": {
    "colab_type": "text",
    "id": "A4fjZRAUhEMC"
   },
   "source": [
    "# Overview\n",
    "\n",
    "The Python programming language was developed in the early 1990s by the Dutch Programmer Guido Van Rossum. It represents a high-level, interpreted, interactive and object-oriented language which is designed to be fun and easy to use. \n",
    "\n",
    "Since this time, the popularity for Python has grown considerably to the point where it is now one of the 2 most widely used programming languages adopted within the Machine Learning and Data Science communities. The other being there statistical programming language R\n",
    "\n",
    "Python is **Interpreted** and **Interactive**\n",
    "\n",
    "-  Code is processed at runtime \n",
    "-  There is no need to compile before execution (similar to Matlab)\n",
    "-  Thus code can be run line by line (similar to Matlab)\n",
    "\n",
    "Generally the code is designed with simple structure and clear syntax in order to make it easy to learn. Python is highly portable, the code written on one operating system can be simply ported to another. Python is compatible with Unix, Mac OS, Windows, Android, IOS platforms. It is open source, and supported by a wide community, which supports a wide range of well documented and advanced packages for numerical and image analysis. A selection of those that will be particularly useful for this book are:\n",
    "\n",
    "\n",
    "- **```NumPy```** is the fundamental package for scientific computing in Python and it is used for working with multidimensional arrays. Link to the documentation for NumPy: https://numpy.org/doc/stable/\n",
    "- **```Scikit-learn```** is an open source machine learning library that supports supervised and unsupervised learning. It also provides various tools for model fitting, data preprocessing, model selection and evaluation, and many other utilities. Link to the documentation for Scikit-learn: https://scikit-learn.org/stable/user_guide.html![image.png](attachment:image.png)\n",
    "- **```Matplotlib```** is a comprehensive library for creating static, animated, and interactive visualizations in Python. Link to the documentation for Matplotlib: https://matplotlib.org/users/index.html\n",
    "- **```Pandas```** is a fast, powerful, flexible and easy to use open source data analysis and manipulation tool, built on top of the Python programming language. Link to the documentation for Pandas: https://pandas.pydata.org/docs/user_guide/index.html\n",
    "- **```NiBabel```**  provides read and write access to some common medical and neuroimaging file formats, including: ANALYZE (plain, SPM99, SPM2 and later), GIFTI, NIfTI1, NIfTI2, CIFTI-2, MINC1, MINC2, AFNI BRIK/HEAD, MGH and ECAT as well as Philips PAR/REC. Link to the documentation for NiBabel:  https://nipy.org/nibabel/manual.html#manual"
   ]
  },
  {
   "attachments": {},
   "cell_type": "markdown",
   "metadata": {
    "colab_type": "text",
    "id": "PkFta4udhEMK"
   },
   "source": [
    "# Basics of Python\n",
    "\n",
    "Jupyter Notebooks have two different keyboard input modes:\n",
    "\n",
    "- **Command mode** binds the keyboard to notebook level actions. Indicated by a grey cell border with a blue left margin.\n",
    "- **Edit mode** when you’re typing in a cell. Indicated by a green cell border\n",
    "\n",
    "Some useful **shortcuts** to interact with the Jupyter Notebook:\n",
    "- ``` Shift + Enter``` run the current cell\n",
    "- ``` Ctrl + S ``` save notebook\n",
    "- ``` Ctrl + Z ``` undo\n",
    "\n",
    "In Command Mode:\n",
    "- ``` A ``` insert cell above\n",
    "- ``` B ``` insert cell below\n",
    "- ``` X ``` cut selected cells\n",
    "- ``` C ``` copy selected cells\n",
    "- ``` V ``` paste cells below\n",
    "\n",
    "\n",
    "Note that the shortcuts are for ```Windows``` and ```Linux``` users. For the ```Mac``` users, they’re different buttons for ```Ctrl```, ```Shift```, and ```Alt```:\n",
    "- ``` Ctrl + S ```: command key ```⌘```\n",
    "- ``` Shift ```: Shift ```⇧```\n",
    "- ``` Alt ```: option ```⌥```\n",
    "\n",
    "\n",
    "The first part of this notebook will focus on the basics of Python, covering simple variables and tuples, lists strings and math operators, conditions and functions."
   ]
  },
  {
   "attachments": {},
   "cell_type": "markdown",
   "metadata": {
    "colab_type": "text",
    "id": "emQ1M8QShEML"
   },
   "source": [
    "### 1) Structuring your code\n",
    "\n",
    "Python uses indentation instead of braces to structure its programs and scripts into blocks.  All code within a block must be horizontally aligned such that each line starts equidistant from the left.\n",
    "\n",
    "A code blocks is a piece of Python program text that can be executed as a unit. A very common example of code block is a ```for``` loop that is traditionally used when you have a block of code which you want to repeat a fixed number of times.  The below section of code provides an example with two ```for``` loops.  Note that you are not, at this time, expected to understand all the specific syntactic elements. Simply observe how each ``` for``` statement the code moves further to the left."
   ]
  },
  {
   "cell_type": "code",
   "execution_count": null,
   "metadata": {
    "colab": {},
    "colab_type": "code",
    "id": "c7PpPSoYhEMR",
    "outputId": "0fb01589-b66d-4c64-f5d4-47e7cebec764"
   },
   "outputs": [
    {
     "name": "stdout",
     "output_type": "stream",
     "text": [
      "Entering second code block\n",
      "Output of third code block; The new number is 11\n",
      "Output of third code block; The new number is 12\n",
      "Output of third code block; The new number is 13\n",
      "Output of third code block; The new number is 14\n",
      "Output of third code block; The new number is 15\n",
      "Entering second code block\n",
      "Output of third code block; The new number is 21\n",
      "Output of third code block; The new number is 22\n",
      "Output of third code block; The new number is 23\n",
      "Output of third code block; The new number is 24\n",
      "Output of third code block; The new number is 25\n",
      "Entering second code block\n",
      "Output of third code block; The new number is 31\n",
      "Output of third code block; The new number is 32\n",
      "Output of third code block; The new number is 33\n",
      "Output of third code block; The new number is 34\n",
      "Output of third code block; The new number is 35\n",
      "Entering second code block\n",
      "Output of third code block; The new number is 41\n",
      "Output of third code block; The new number is 42\n",
      "Output of third code block; The new number is 43\n",
      "Output of third code block; The new number is 44\n",
      "Output of third code block; The new number is 45\n"
     ]
    }
   ],
   "source": [
    "#the first code block\n",
    "myfirstlist=[10,20,30,40]\n",
    "mysecondlist=[1,2,3,4,5]\n",
    "\n",
    "for tens in myfirstlist:\n",
    "    #the second code block (a for loop over a list of integers)\n",
    "    print('Entering second code block') \n",
    "    for units in mysecondlist:\n",
    "        #the third code block (a for loop over a second list of integers)\n",
    "        new_number=tens+units\n",
    "        print('Output of third code block; The new number is',new_number)\n"
   ]
  },
  {
   "attachments": {},
   "cell_type": "markdown",
   "metadata": {
    "colab_type": "text",
    "id": "txjs9UlGhEMi"
   },
   "source": [
    "### 2) Hello World\n",
    "The simplest function in Python is the print function. To print a statement simply type."
   ]
  },
  {
   "cell_type": "code",
   "execution_count": null,
   "metadata": {
    "colab": {},
    "colab_type": "code",
    "id": "bHsn0op9hEMp",
    "outputId": "13ceb0f4-9e11-42eb-e42e-ed8b12f5b6a1"
   },
   "outputs": [
    {
     "name": "stdout",
     "output_type": "stream",
     "text": [
      "Hello World\n"
     ]
    }
   ],
   "source": [
    "print(\"Hello World\")"
   ]
  },
  {
   "cell_type": "markdown",
   "metadata": {
    "colab_type": "text",
    "id": "q_QWgd76hEM2"
   },
   "source": [
    "**Formatted output**\n",
    "\n",
    "In some cases we would like to print statements with formatted output. To this end, we can use the ```format``` method. \n",
    "\n",
    "Using this formulation it is also possible to cast data types and truncate floats. The general syntax for a format placeholder is:\n",
    "\n",
    "```[argument]:[width][.precision]type```\n"
   ]
  },
  {
   "cell_type": "code",
   "execution_count": null,
   "metadata": {
    "colab": {},
    "colab_type": "code",
    "id": "-Gjljp4LhEM5",
    "outputId": "2fd4afce-60bc-4fb4-b29e-0f48d53d9d73"
   },
   "outputs": [
    {
     "name": "stdout",
     "output_type": "stream",
     "text": [
      "one two\n",
      "1 2\n",
      "Pi= 3.14159\n",
      "Pi=     3.14\n"
     ]
    }
   ],
   "source": [
    "# Examples of the print function with multiple formats\n",
    "print('{} {}'.format('one', 'two'))\n",
    "print('{} {}'.format(1,2))\n",
    "print('Pi= {}'.format(3.14159))\n",
    "print('Pi= {0:8.2f}'.format(3.14159))"
   ]
  },
  {
   "cell_type": "markdown",
   "metadata": {
    "colab_type": "text",
    "id": "FRffAKMyhENT"
   },
   "source": [
    "### 3) Commenting\n",
    "It is always important to comment code such that others can read and use it. In Python the way of commenting code is to use the the hash mark ```#``` before your desired comment and\n"
   ]
  },
  {
   "cell_type": "code",
   "execution_count": 11,
   "metadata": {
    "colab": {},
    "colab_type": "code",
    "executionInfo": {
     "elapsed": 680,
     "status": "ok",
     "timestamp": 1599232986263,
     "user": {
      "displayName": "Esther Puyol",
      "photoUrl": "https://lh3.googleusercontent.com/a-/AOh14GgZ5dwQQaWzw8aJu23hC9vdKeJwPEo4DJHmFmNnPA=s64",
      "userId": "17197960287230661203"
     },
     "user_tz": -60
    },
    "id": "q7B34dlihENU"
   },
   "outputs": [],
   "source": [
    "# this is a  code comment\n"
   ]
  },
  {
   "attachments": {},
   "cell_type": "markdown",
   "metadata": {
    "colab_type": "text",
    "id": "9xK7PnRQhENw"
   },
   "source": [
    "### 4) Basic data types\n",
    "\n",
    "Like most languages, Python has a number of basic types including integers, floats, Booleans, and strings. These data types behave in ways that look like from other programming languages.\n",
    "\n",
    "**Numbers:** Integers and floats \n",
    "\n",
    "**Booleans:** Python implements all of the usual operators for Boolean logic, but uses English words rather than symbols:\n",
    "-\t```and``` for boolean AND\n",
    "-\t```or``` for boolean OR\n",
    "-\t``` not ``` for boolean NOT\n",
    "\n",
    "**Strings:** Strings are defined either with a single quote ```''``` or a double quotes ```\"\"``` "
   ]
  },
  {
   "cell_type": "code",
   "execution_count": 1,
   "metadata": {
    "colab": {
     "base_uri": "https://localhost:8080/",
     "height": 235
    },
    "colab_type": "code",
    "executionInfo": {
     "elapsed": 1005,
     "status": "ok",
     "timestamp": 1599233259526,
     "user": {
      "displayName": "Esther Puyol",
      "photoUrl": "https://lh3.googleusercontent.com/a-/AOh14GgZ5dwQQaWzw8aJu23hC9vdKeJwPEo4DJHmFmNnPA=s64",
      "userId": "17197960287230661203"
     },
     "user_tz": -60
    },
    "id": "g_Fq_DlmhEN0",
    "outputId": "ebbc307f-8663-428a-d770-96fd9b4919fb"
   },
   "outputs": [
    {
     "name": "stdout",
     "output_type": "stream",
     "text": [
      "example integer is  9\n",
      "example integer is  9.3\n",
      "casting an integer as a float results in 9.0\n",
      "example booleans are  True  and  False\n",
      "hello world\n",
      "hello world\n",
      "testing if string1 and string2 are equal: True\n",
      "Hello\n",
      "HELLO\n",
      "  hello\n",
      " hello \n",
      "he(ell)(ell)o\n",
      "world\n"
     ]
    }
   ],
   "source": [
    "# Example of assigning to a variable an integer value is:\n",
    "myint = 9\n",
    "print('example integer is ', myint)\n",
    "\n",
    "# Examples of float declarations are:\n",
    "myfloat1=9.3\n",
    "myfloat2=float(9)\n",
    "print('example integer is ', myfloat1)\n",
    "print('casting an integer as a float results in', myfloat2)\n",
    "\n",
    "# Examples of booleans declarations are:\n",
    "mybool1 = True\n",
    "mybool2 = False\n",
    "print('example booleans are ', mybool1, ' and ', mybool2)\n",
    "\n",
    "# Strings are defined either with a single quote or a double quotes e.g. \n",
    "string1=\"hello world\"\n",
    "string2='hello world'\n",
    "print (string1)\n",
    "print(string2)\n",
    "print('testing if string1 and string2 are equal:', string1==string2)\n",
    "\n",
    "# String objects have a bunch of useful methods. For example:\n",
    "s = \"hello\"\n",
    "# Capitalize a string\n",
    "print(s.capitalize())  \n",
    "# Convert a string to uppercase\n",
    "print(s.upper())    \n",
    "# Right-justify a string, padding with spaces   \n",
    "print(s.rjust(7))  \n",
    "# Center a string, padding with spaces    \n",
    "print(s.center(7))     \n",
    " # Replace all instances of one substring with another\n",
    "print(s.replace('l', '(ell)')) \n",
    "# Strip leading and trailing whitespace\n",
    "print('  world '.strip())\n",
    "\n"
   ]
  },
  {
   "cell_type": "markdown",
   "metadata": {
    "colab_type": "text",
    "id": "_9WR-NCnhEOG"
   },
   "source": [
    "### 5) Operators\n",
    "The basic math operators are:\n",
    "- addition (```+```)\n",
    "- subtraction (```-```)\n",
    "- multiplication (```*```)\n",
    "- division (```/``` or ```//```)\n",
    "- modulus (```%```)\n",
    "- power (```**```)\n",
    "\n"
   ]
  },
  {
   "cell_type": "code",
   "execution_count": 2,
   "metadata": {
    "colab": {},
    "colab_type": "code",
    "id": "9TetwvoMhEOH",
    "outputId": "b207ee28-942c-46c0-e11c-995b40141111"
   },
   "outputs": [
    {
     "name": "stdout",
     "output_type": "stream",
     "text": [
      "addition: 5\n",
      "subtraction: -1\n",
      "multiplication: 6\n",
      "division: 0.6666666666666666\n",
      "the remainder following division of 9 by 5 is 4\n",
      "2 to the power 4 is 16\n"
     ]
    }
   ],
   "source": [
    "# Examples of simple math operations:\n",
    "print('addition:', 2+3)\n",
    "print('subtraction:', 2-3)\n",
    "print('multiplication:', 2*3)\n",
    "print('division:', 2/3)\n",
    "# The modulus operator (```%```) returns the integer remainder following division:\n",
    "a=9\n",
    "b=5\n",
    "print('the remainder following division of {} by {} is {}'.format(a, b, a%b))\n",
    "# Using ```*``` twice (```**```) results in the power operator\n",
    "a=2\n",
    "b=4\n",
    "print('{} to the power {} is {}'.format(a, b, a**b))"
   ]
  },
  {
   "cell_type": "markdown",
   "metadata": {
    "colab_type": "text",
    "id": "XWCXjcQLhEPT"
   },
   "source": [
    "### 6) Conditions\n",
    "\n",
    "Conditions containing boolean operators ``` == > < ``` are formatted as:"
   ]
  },
  {
   "cell_type": "code",
   "execution_count": 3,
   "metadata": {
    "colab": {},
    "colab_type": "code",
    "id": "BKtuYC8PhEPT",
    "outputId": "6c4a93fd-de0f-43c8-d787-45e9915c6859"
   },
   "outputs": [
    {
     "name": "stdout",
     "output_type": "stream",
     "text": [
      "True\n",
      "True\n",
      "False\n",
      "False\n",
      "True\n",
      "True\n",
      "True\n"
     ]
    }
   ],
   "source": [
    "a=10\n",
    "print(a==10)\n",
    "print(a<12)\n",
    "print(a>20)\n",
    "\n",
    "# Two conditional statements can be considered concurrent with ```and,or, and is``` statements\n",
    "a=10\n",
    "b=12\n",
    "print(a is b)\n",
    "print(a< 15 and b > 10)\n",
    "print (a < 15 or b < 10)\n",
    "\n",
    "# Using \"not\" before a boolean expression inverts it:\n",
    "print(not a is b)"
   ]
  },
  {
   "cell_type": "markdown",
   "metadata": {
    "colab_type": "text",
    "id": "rqn65VyNhEPX"
   },
   "source": [
    "### Exercise: Variables, Operators and Conditions"
   ]
  },
  {
   "cell_type": "markdown",
   "metadata": {
    "colab_type": "text",
    "id": "ZehV_G0yhEPX"
   },
   "source": [
    "Ex 1. Playing with the print function and string formatting "
   ]
  },
  {
   "cell_type": "code",
   "execution_count": null,
   "metadata": {
    "colab": {},
    "colab_type": "code",
    "id": "lTs1CVxkhEPY"
   },
   "outputs": [],
   "source": [
    "# Complete Ex 1 below; responding below each comment block\n",
    "\n",
    "# Q1. Define variables and print them\n",
    "#e.g. a=8; b=7; teststr='Hello World'\n",
    "\n",
    "# Q2. Practice print statements e.g. print('hello world')\n",
    "\n",
    "\n",
    "# Q3. Try printing the variable teststr (what if you change to double quotes)\n",
    "\n",
    "\n",
    "# Q4. Try adding the variable 'a' to variable 'teststr' within a print statement \n"
   ]
  },
  {
   "cell_type": "code",
   "execution_count": 5,
   "metadata": {},
   "outputs": [
    {
     "name": "stdout",
     "output_type": "stream",
     "text": [
      "Hello World\n",
      "a=8 and b=7\n",
      "hello world\n",
      "Hello World\n",
      "Hello World 8\n",
      "Hello World 8\n",
      "Hello World 8\n"
     ]
    }
   ],
   "source": [
    "# SOLUTIONS EX 1.\n",
    "\n",
    "# Q1. Define variables and print them\n",
    "a=8 \n",
    "b=7\n",
    "teststr='Hello World'\n",
    "print(teststr)\n",
    "print(\"a={} and b={}\" .format(a, b))\n",
    "\n",
    "\n",
    "# Q2. Practice print statements e.g. print('hello world')\n",
    "print('hello world')\n",
    "\n",
    "# Q3. Try printing the variable teststr (what if you change to double quotes)\n",
    "teststr=\"Hello World\"\n",
    "print(teststr)\n",
    "\n",
    "# Q4. Try adding the variable 'a' to variable 'teststr' within a print statement \n",
    "print('{} {}'.format(teststr,a))\n",
    "print(teststr +' '+ str(a))\n",
    "print(f\"{teststr} {a}\")"
   ]
  },
  {
   "cell_type": "markdown",
   "metadata": {
    "colab_type": "text",
    "id": "9uVQGEI8hEP5"
   },
   "source": [
    "Ex 2. Try some simple operations"
   ]
  },
  {
   "cell_type": "code",
   "execution_count": null,
   "metadata": {
    "colab": {},
    "colab_type": "code",
    "id": "zFfZBcPEhEP5"
   },
   "outputs": [],
   "source": [
    "# Complete Ex 2 below; responding below each comment \n",
    "\n",
    "# Q1. Attempt simple math operations, print the output (Hint - uncomment and complete)\n",
    "\n",
    "#print(' a+b = ', )\n",
    "#print(' a -b = ', )\n",
    "#print(' a*b = ', )\n",
    "#print(' a/b = ', )\n",
    "\n",
    "# Q2. Combinations of math operators try combining math operators e.g. a*a+b - a/b \n",
    "\n",
    "\n",
    "# Q3. What happens through the addition of brackets e.g. a*(a+b - a/b) or (a*a+b - a)/b \n"
   ]
  },
  {
   "cell_type": "code",
   "execution_count": 13,
   "metadata": {
    "colab": {},
    "colab_type": "code",
    "id": "zFfZBcPEhEP5"
   },
   "outputs": [
    {
     "name": "stdout",
     "output_type": "stream",
     "text": [
      " a+b = 15\n",
      " a-b = 1\n",
      " a*b = 56\n",
      " a/b = 1.14\n",
      " a*a+b - a/b = 69.86\n",
      " a*(a+b - a/b) =  110.86\n",
      " (a*a+b - a)/b =  9.00\n"
     ]
    }
   ],
   "source": [
    "# SOLUTIONS EX 2.\n",
    "\n",
    "# Q1. Attempt simple math operations, print the output (Hint - uncomment and complete)\n",
    "a=8 \n",
    "b=7\n",
    "\n",
    "print(' a+b = {}'.format(a+b))\n",
    "print(' a-b = {}'.format(a-b))\n",
    "print(' a*b = {}'.format(a*b))\n",
    "print(' a/b = {:.2f}'.format(a/b))\n",
    "\n",
    "# Q2. Combinations of math operators try combining math operators e.g. a*a+b - a/b \n",
    "print(' a*a+b - a/b = {:.2f}' . format(a*a+b-a/b))\n",
    "\n",
    "# Q3 what happens through the addition of brackets e.g. a*(a+b - a/b) or (a*a+b - a)/b \n",
    "print(' a*(a+b - a/b) =  {:.2f}' . format(a*(a+b - a/b)))\n",
    "print(' (a*a+b - a)/b =  {:.2f}' .format((a*a+b -a)/b))\n"
   ]
  },
  {
   "cell_type": "markdown",
   "metadata": {
    "colab_type": "text",
    "id": "9HjBEpzohEQB"
   },
   "source": [
    "Ex 3. Experiment with Conditions"
   ]
  },
  {
   "cell_type": "code",
   "execution_count": null,
   "metadata": {
    "colab": {},
    "colab_type": "code",
    "id": "ETZ6O76bhEQC"
   },
   "outputs": [],
   "source": [
    "# Complete Ex 3 below; responding below each comment \n",
    "\n",
    "# Q1. define variables \n",
    "\n",
    "a=5\n",
    "b=10\n",
    "teststr1='Hello'\n",
    "teststr2='World'\n",
    "\n",
    "# Q2 complete and evaluate the following conditional statements\n",
    "print('a==b',)\n",
    "print('2*a==b',)\n",
    "print('a>b',)\n",
    "print('a<b',)\n",
    "print('a is b',)\n",
    "print('2*a is b',)\n",
    "\n",
    "# Q3. Combine statements using and/or statements e.g. 'a == b or b> a' and print out\n",
    "\n",
    "\n",
    "# Q4. Try inverting your previous statements with a not"
   ]
  },
  {
   "cell_type": "code",
   "execution_count": 14,
   "metadata": {
    "colab": {},
    "colab_type": "code",
    "id": "ETZ6O76bhEQC"
   },
   "outputs": [
    {
     "name": "stdout",
     "output_type": "stream",
     "text": [
      "a==b False\n",
      "2*a==b True\n",
      "a>b False\n",
      "a<b True\n",
      "a is b False\n",
      "2*a is b True\n",
      "True\n",
      "False\n"
     ]
    }
   ],
   "source": [
    "# SOLUTIONS EX 3.\n",
    "\n",
    "# Q1. define variables \n",
    "\n",
    "a=5\n",
    "b=10\n",
    "teststr1='Hello'\n",
    "teststr2='World'\n",
    "\n",
    "# Q2 complete and evaluate the following conditional statements\n",
    "print('a==b',a==b)\n",
    "print('2*a==b',2*a==b)\n",
    "print('a>b',a>b)\n",
    "print('a<b',a<b)\n",
    "print('a is b',a is b)\n",
    "print('2*a is b',2*a is b)\n",
    "\n",
    "# Q3. Combine statements using and/or statements e.g. 'a == b or b> a' and print out\n",
    "print(a==b or b>a)\n",
    "\n",
    "# Q4. Try inverting your previous statements with a not\n",
    "print(not(a==b or b>a))\n"
   ]
  },
  {
   "cell_type": "markdown",
   "metadata": {
    "colab_type": "text",
    "id": "Du6J5BOBiSeP"
   },
   "source": [
    "### 7) Lists\n",
    "\n",
    "A list is an ordered collection of objects. List elements don't have to be of the same type but can be an arbitrary mixture of numbers, strings, or other types of objects. Lists can contain other lists as sub-lists. Examples of lists:"
   ]
  },
  {
   "cell_type": "code",
   "execution_count": 1,
   "metadata": {
    "colab": {},
    "colab_type": "code",
    "executionInfo": {
     "elapsed": 711,
     "status": "ok",
     "timestamp": 1599230288426,
     "user": {
      "displayName": "Esther Puyol",
      "photoUrl": "https://lh3.googleusercontent.com/a-/AOh14GgZ5dwQQaWzw8aJu23hC9vdKeJwPEo4DJHmFmNnPA=s64",
      "userId": "17197960287230661203"
     },
     "user_tz": -60
    },
    "id": "g8hfBnn_iSeR"
   },
   "outputs": [],
   "source": [
    "emptylist=[] # An empty list\n",
    "integerlist=[1,2,3,4,5,6] #A list of integers\n",
    "stringlist=['string1', 'string2', 'string3'] #A list of strings\n",
    "mixedlist=[10, \"some string\", 4.2, 2, 'some other string'] #A list of mixed data types\n",
    "# a nested list  - note sublists are not same lengths\n",
    "nestedlist=[['dog','cat','pig'], [1,2,3 ,4], [10, \"some string\", 4.2, 2, 'some other string'] ]"
   ]
  },
  {
   "cell_type": "markdown",
   "metadata": {
    "colab_type": "text",
    "id": "-KjwTzJJiSef"
   },
   "source": [
    "**Indexing sequential data types**\n",
    "\n",
    "In a list is possible to index and slice different elements or groups of elements as follows:\n",
    "\n",
    "** <font color='red'> NOTE in python all array like objects are indexed from 0  </font>  **"
   ]
  },
  {
   "cell_type": "code",
   "execution_count": 5,
   "metadata": {
    "colab": {
     "base_uri": "https://localhost:8080/",
     "height": 151
    },
    "colab_type": "code",
    "executionInfo": {
     "elapsed": 666,
     "status": "ok",
     "timestamp": 1599230503093,
     "user": {
      "displayName": "Esther Puyol",
      "photoUrl": "https://lh3.googleusercontent.com/a-/AOh14GgZ5dwQQaWzw8aJu23hC9vdKeJwPEo4DJHmFmNnPA=s64",
      "userId": "17197960287230661203"
     },
     "user_tz": -60
    },
    "id": "JPw3gXeHiSel",
    "outputId": "4c7ca762-b0f9-4a8d-973d-6cdd30988d1e"
   },
   "outputs": [
    {
     "name": "stdout",
     "output_type": "stream",
     "text": [
      "the third element of the integer list 3\n",
      "the fourth element of the mixed list 2\n",
      "the seventh element of the string W\n",
      "the middle two elements of the integer list [3, 4]\n",
      "the middle two elements of the integer list [1, 2, 3, 4, 5]\n",
      "the middle two elements of the integer list [5, 6]\n",
      "the middle two elements of the integer list [5]\n",
      "the last element of the integer list 6\n"
     ]
    }
   ],
   "source": [
    "teststr='Hello World'\n",
    "print('the third element of the integer list', integerlist[2])\n",
    "print('the fourth element of the mixed list', mixedlist[3])\n",
    "print('the seventh element of the string', teststr[6])\n",
    "\n",
    "# note slice indexing takes all elements upto but not including the last index \n",
    "print('the middle two elements of the integer list', integerlist[2:4])\n",
    "#slicing from the beginning to element 5\n",
    "print('the middle two elements of the integer list', integerlist[:5])\n",
    "#slicing from element 5 to the end\n",
    "print('the middle two elements of the integer list', integerlist[4:])\n",
    "#slicing from element 5 to one from the end\n",
    "print('the middle two elements of the integer list', integerlist[4:-1])\n",
    "# Indexing can also be done in reverse:\n",
    "print('the last element of the integer list', integerlist[-1])\n"
   ]
  },
  {
   "cell_type": "markdown",
   "metadata": {
    "colab_type": "text",
    "id": "KM4rTqifiSev"
   },
   "source": [
    "**Assignment and Mutation**"
   ]
  },
  {
   "cell_type": "markdown",
   "metadata": {
    "colab_type": "text",
    "id": "qx67T8q7iSev"
   },
   "source": [
    "It is possible to increase the length of a list using ```append()```"
   ]
  },
  {
   "cell_type": "code",
   "execution_count": null,
   "metadata": {
    "colab": {},
    "colab_type": "code",
    "id": "P1CZc9UniSew"
   },
   "outputs": [],
   "source": [
    "integerlist.append(7)\n",
    "print('new integer list', integerlist)"
   ]
  },
  {
   "cell_type": "markdown",
   "metadata": {
    "colab_type": "text",
    "id": "n_YCPJOniSe1"
   },
   "source": [
    "Incidentally the lengths of strings and lists can be determined using ```len()```:"
   ]
  },
  {
   "cell_type": "code",
   "execution_count": null,
   "metadata": {
    "colab": {},
    "colab_type": "code",
    "id": "Pt89ZuvpiSe1"
   },
   "outputs": [],
   "source": [
    "print('the length of the new integer list is', len(integerlist))\n",
    "print('the length of the teststr is', len(teststr))"
   ]
  },
  {
   "cell_type": "markdown",
   "metadata": {
    "colab_type": "text",
    "id": "JhYs1ohDiSe3"
   },
   "source": [
    "Lists can be added together like strings:"
   ]
  },
  {
   "cell_type": "code",
   "execution_count": null,
   "metadata": {
    "colab": {},
    "colab_type": "code",
    "id": "y7raDTgAiSe4"
   },
   "outputs": [],
   "source": [
    "print(integerlist+stringlist)"
   ]
  },
  {
   "cell_type": "markdown",
   "metadata": {
    "colab_type": "text",
    "id": "OoVL0Tf6iSe6"
   },
   "source": [
    "Items of lists can be swapped out for new ones:"
   ]
  },
  {
   "cell_type": "markdown",
   "metadata": {
    "colab_type": "text",
    "id": "bWPq8JxkiSfx"
   },
   "source": [
    "### Exercise: Lists"
   ]
  },
  {
   "cell_type": "markdown",
   "metadata": {
    "colab_type": "text",
    "id": "brtLY9GhiSfx"
   },
   "source": [
    "Ex 1. Lists:\n",
    "\n",
    "    - Create an list of integers\n",
    "    - Estimate the length of the list; print it out\n",
    "    - Index the list at different points along its length\n",
    "    - Take a slice of a subset of elements from the list\n",
    "    - Append the list with a new item of a different type"
   ]
  },
  {
   "cell_type": "code",
   "execution_count": null,
   "metadata": {
    "colab": {},
    "colab_type": "code",
    "id": "4KVK7yQ1iSfy"
   },
   "outputs": [],
   "source": [
    "#Complete responses to Ex1 here, e.g. mylist=[1,2,3,4,5]\n",
    "\n",
    "# index elements at different lengths along the list \n",
    "\n",
    "# index the last element of your list\n",
    "\n",
    "# slice\n",
    "\n",
    "# append"
   ]
  },
  {
   "cell_type": "code",
   "execution_count": 15,
   "metadata": {
    "colab": {},
    "colab_type": "code",
    "id": "4KVK7yQ1iSfy"
   },
   "outputs": [
    {
     "name": "stdout",
     "output_type": "stream",
     "text": [
      "1 2 4\n",
      "5\n",
      "[2, 3]\n"
     ]
    }
   ],
   "source": [
    "# SOLUTIONS EX 1.\n",
    "\n",
    "mylist=[1,2,3,4,5]\n",
    "\n",
    "# index elements at different lengths along the list \n",
    "\n",
    "print(mylist[0],mylist[1],mylist[3])\n",
    "\n",
    "# index the last element of your list\n",
    "\n",
    "print(mylist[-1])\n",
    "\n",
    "# slice\n",
    "\n",
    "print(mylist[1:3])\n",
    "\n",
    "# append\n",
    "\n",
    "mylist.append(43110)"
   ]
  },
  {
   "cell_type": "markdown",
   "metadata": {
    "colab_type": "text",
    "id": "T7zOiKGbiSf0"
   },
   "source": [
    "Ex 2. Operations on sequential data types\n",
    "\n",
    "    - Concatenate two strings, and two lists \n",
    "    - Concatenate 10 copies of each string"
   ]
  },
  {
   "cell_type": "code",
   "execution_count": null,
   "metadata": {
    "colab": {},
    "colab_type": "code",
    "id": "El64J_QyiSf1"
   },
   "outputs": [],
   "source": [
    "#Complete responses to Ex2 below\n",
    "\n",
    "string1='Hello'\n",
    "string2='World'\n",
    "list1=['Hello', 'World']\n",
    "list2=[\"I'm\", 'ready', 'to' 'Python']\n",
    "\n",
    "# Important - Never name your variables after data types i.e. str='mystring', list=['some', 'list'] should never be used \n",
    "\n",
    "# Q1 Concatenate two strings, and two lists \n",
    "\n",
    "# Q2  Concatenate 10 copies of each string\n"
   ]
  },
  {
   "cell_type": "code",
   "execution_count": 16,
   "metadata": {
    "colab": {},
    "colab_type": "code",
    "id": "El64J_QyiSf1"
   },
   "outputs": [
    {
     "name": "stdout",
     "output_type": "stream",
     "text": [
      "HelloWorld\n",
      "['Hello', 'World', \"I'm\", 'ready', 'toPython']\n",
      "HelloHelloHelloHelloHelloHelloHelloHelloHelloHello\n"
     ]
    }
   ],
   "source": [
    "# SOLUTIONS EX 2.\n",
    "\n",
    "string1='Hello'\n",
    "string2='World'\n",
    "list1=['Hello', 'World']\n",
    "list2=[\"I'm\", 'ready', 'to' 'Python']\n",
    "\n",
    "# Q1 Concatenate two strings, and two lists \n",
    "\n",
    "print(string1+string2)\n",
    "print(list1+list2)\n",
    "\n",
    "# Q2  Concatenate 10 copies of each string\n",
    "\n",
    "print(string1*10)"
   ]
  },
  {
   "cell_type": "markdown",
   "metadata": {
    "colab_type": "text",
    "id": "xSr7yC4SqkcE"
   },
   "source": [
    "<font color='red'>**TODO:** We should see how to better highlight these sections from  the introductory ones</font> \n",
    "\n",
    "### 8) Numpy\n",
    "\n",
    "Numpy is the core library for scientific computing in Python. It provides a high-performance multidimensional array object, and tools for working with these arrays. \n",
    "\n"
   ]
  },
  {
   "cell_type": "markdown",
   "metadata": {
    "colab_type": "text",
    "id": "UJfdKganq__e"
   },
   "source": [
    "**Arrays** \n",
    "\n",
    "A numpy array is a grid of values, all of the same type, and is indexed by a tuple of nonnegative integers. The number of dimensions is the rank of the array; the shape of an array is a tuple of integers giving the size of the array along each dimension.\n",
    "\n",
    "We can initialize numpy arrays from nested Python lists, and access elements using square brackets:"
   ]
  },
  {
   "cell_type": "code",
   "execution_count": 9,
   "metadata": {
    "colab": {
     "base_uri": "https://localhost:8080/",
     "height": 118
    },
    "colab_type": "code",
    "executionInfo": {
     "elapsed": 691,
     "status": "ok",
     "timestamp": 1599232381686,
     "user": {
      "displayName": "Esther Puyol",
      "photoUrl": "https://lh3.googleusercontent.com/a-/AOh14GgZ5dwQQaWzw8aJu23hC9vdKeJwPEo4DJHmFmNnPA=s64",
      "userId": "17197960287230661203"
     },
     "user_tz": -60
    },
    "id": "TzwqVJ_6qhGP",
    "outputId": "8faf8d77-93f3-407a-9e32-62357e39f697"
   },
   "outputs": [
    {
     "name": "stdout",
     "output_type": "stream",
     "text": [
      "<class 'numpy.ndarray'>\n",
      "(3,)\n",
      "1 2 3\n",
      "[5 2 3]\n",
      "(2, 3)\n",
      "1 2 4\n"
     ]
    }
   ],
   "source": [
    "import numpy as np\n",
    "\n",
    "# Create a rank 1 array\n",
    "a = np.array([1, 2, 3])   \n",
    "print(type(a))            \n",
    "print(a.shape)            \n",
    "print(a[0], a[1], a[2])   \n",
    "# Change an element of the array\n",
    "a[0] = 5                  \n",
    "print(a)                 \n",
    "# Create a rank 2 array\n",
    "b = np.array([[1,2,3],[4,5,6]])    \n",
    "print(b.shape)                     \n",
    "print(b[0, 0], b[0, 1], b[1, 0])   "
   ]
  },
  {
   "cell_type": "markdown",
   "metadata": {
    "colab_type": "text",
    "id": "cs4Iz3DXrls4"
   },
   "source": [
    "Numpy also provides many functions to create arrays:\n"
   ]
  },
  {
   "cell_type": "code",
   "execution_count": 10,
   "metadata": {
    "colab": {
     "base_uri": "https://localhost:8080/",
     "height": 168
    },
    "colab_type": "code",
    "executionInfo": {
     "elapsed": 737,
     "status": "ok",
     "timestamp": 1599232424570,
     "user": {
      "displayName": "Esther Puyol",
      "photoUrl": "https://lh3.googleusercontent.com/a-/AOh14GgZ5dwQQaWzw8aJu23hC9vdKeJwPEo4DJHmFmNnPA=s64",
      "userId": "17197960287230661203"
     },
     "user_tz": -60
    },
    "id": "RpiZJ7aDrI-G",
    "outputId": "e913eabd-f138-4a9c-950c-f7ff40fe3b89"
   },
   "outputs": [
    {
     "name": "stdout",
     "output_type": "stream",
     "text": [
      "[[0. 0.]\n",
      " [0. 0.]]\n",
      "[[1. 1.]]\n",
      "[[7 7]\n",
      " [7 7]]\n",
      "[[1. 0.]\n",
      " [0. 1.]]\n",
      "[[0.5746982  0.03840111]\n",
      " [0.84676011 0.34556737]]\n"
     ]
    }
   ],
   "source": [
    "import numpy as np\n",
    "\n",
    "# Create a 2x2 array of all zeros\n",
    "a = np.zeros((2,2))   \n",
    "print(a)             \n",
    "\n",
    "# Create a 1x2 array of all ones\n",
    "b = np.ones((1,2))    \n",
    "print(b)              \n",
    "\n",
    "# Create a 2x2 constant array\n",
    "c = np.full((2,2), 7)  \n",
    "print(c)              \n",
    "\n",
    "# Create a 2x2 identity matrix\n",
    "d = np.eye(2)         \n",
    "print(d)              \n",
    "\n",
    "# Create a 2x2 array filled with random values\n",
    "e = np.random.random((2,2))  \n",
    "print(e)                    "
   ]
  },
  {
   "cell_type": "markdown",
   "metadata": {
    "colab_type": "text",
    "id": "Wiju8I67vI4I"
   },
   "source": [
    "**Array indexing**\n",
    "\n",
    "Numpy offers several ways to index into arrays.\n",
    "\n",
    "Similar to lists, numpy arrays can be sliced. Since arrays may be multidimensional, you must specify a slice for each dimension of the array:\n",
    "\n"
   ]
  },
  {
   "cell_type": "code",
   "execution_count": 21,
   "metadata": {
    "colab": {},
    "colab_type": "code",
    "id": "gU9kmgjbvQCo"
   },
   "outputs": [
    {
     "name": "stdout",
     "output_type": "stream",
     "text": [
      "[[ 1  2  3  4]\n",
      " [ 5  6  7  8]\n",
      " [ 9 10 11 12]]\n",
      "[[2 3]\n",
      " [6 7]]\n",
      "2\n",
      "77\n"
     ]
    }
   ],
   "source": [
    "import numpy as np\n",
    "\n",
    "# Create the following rank 2 array with shape (3, 4)\n",
    "# [[ 1  2  3  4]\n",
    "#  [ 5  6  7  8]\n",
    "#  [ 9 10 11 12]]\n",
    "a = np.array([[1,2,3,4], [5,6,7,8], [9,10,11,12]])\n",
    "print(a)\n",
    "# Use slicing to pull out the subarray consisting of the first 2 rows\n",
    "# and columns 1 and 2. \n",
    "b = a[:2, 1:3]\n",
    "print(b)\n",
    "\n",
    "# Note that slice of an array is a way of viewing the data of the array and that means that means that \n",
    "# the data of both objects is shared. For this reason if we modified 'b' it will also modify the original array.  \n",
    "print(a[0, 1])   \n",
    "b[0, 0] = 77     \n",
    "print(a[0, 1])   "
   ]
  },
  {
   "cell_type": "markdown",
   "metadata": {
    "colab_type": "text",
    "id": "eYurgvcEvYIb"
   },
   "source": [
    "You can also mix integer indexing with slice indexing. However, doing so will yield an array of lower rank compared to the original array. \n",
    "\n"
   ]
  },
  {
   "cell_type": "code",
   "execution_count": 16,
   "metadata": {
    "colab": {
     "base_uri": "https://localhost:8080/",
     "height": 118
    },
    "colab_type": "code",
    "executionInfo": {
     "elapsed": 911,
     "status": "ok",
     "timestamp": 1599233465310,
     "user": {
      "displayName": "Esther Puyol",
      "photoUrl": "https://lh3.googleusercontent.com/a-/AOh14GgZ5dwQQaWzw8aJu23hC9vdKeJwPEo4DJHmFmNnPA=s64",
      "userId": "17197960287230661203"
     },
     "user_tz": -60
    },
    "id": "jmKDYSvdvagK",
    "outputId": "5c06328d-cccb-4c46-8d2e-c12688e834ff"
   },
   "outputs": [
    {
     "name": "stdout",
     "output_type": "stream",
     "text": [
      "[5 6 7 8] (4,)\n",
      "[[5 6 7 8]] (1, 4)\n",
      "[ 2  6 10] (3,)\n",
      "[[ 2]\n",
      " [ 6]\n",
      " [10]] (3, 1)\n"
     ]
    }
   ],
   "source": [
    "import numpy as np\n",
    "\n",
    "# Create the following rank 2 array with shape (3, 4)\n",
    "# [[ 1  2  3  4]\n",
    "#  [ 5  6  7  8]\n",
    "#  [ 9 10 11 12]]\n",
    "a = np.array([[1,2,3,4], [5,6,7,8], [9,10,11,12]])\n",
    "\n",
    "# Two ways of accessing the data in the middle row of the array.\n",
    "# Mixing integer indexing with slices yields an array of lower rank,\n",
    "# while using only slices yields an array of the same rank as the\n",
    "# original array:\n",
    "row_r1 = a[1, :]    # Rank 1 view of the second row of a\n",
    "row_r2 = a[1:2, :]  # Rank 2 view of the second row of a\n",
    "print(row_r1, row_r1.shape)  \n",
    "print(row_r2, row_r2.shape)  \n",
    "\n",
    "# We can make the same distinction when accessing columns of an array:\n",
    "col_r1 = a[:, 1]\n",
    "col_r2 = a[:, 1:2]\n",
    "print(col_r1, col_r1.shape)  \n",
    "print(col_r2, col_r2.shape)  "
   ]
  },
  {
   "cell_type": "markdown",
   "metadata": {
    "colab_type": "text",
    "id": "gGYl2CG9v5ay"
   },
   "source": [
    "**Boolean array indexing**\n",
    "\n",
    "Boolean array indexing lets you pick out arbitrary elements of an array. Frequently this type of indexing is used to select the elements of an array that satisfy some condition.\n",
    "\n"
   ]
  },
  {
   "cell_type": "code",
   "execution_count": null,
   "metadata": {
    "colab": {},
    "colab_type": "code",
    "id": "qJZq0Zotv85j"
   },
   "outputs": [],
   "source": [
    "import numpy as np\n",
    "\n",
    "a = np.array([[1,2], [3, 4], [5, 6]])\n",
    "\n",
    "# Find the elements of a that are bigger than 2; this returns a numpy array of Booleans of the same \n",
    "# shape as a, where each slot of bool_idx tells whether that element of a is > 2.\n",
    "bool_idx = (a > 2)   \n",
    "\n",
    "print(bool_idx)     \n",
    "\n",
    "# We use boolean array indexing to construct a rank 1 array\n",
    "# consisting of the elements of a corresponding to the True values\n",
    "# of bool_idx\n",
    "print(a[bool_idx])  \n",
    "\n",
    "# We can do all of the above in a single concise statement:\n",
    "print(a[a > 2])     "
   ]
  },
  {
   "cell_type": "markdown",
   "metadata": {
    "colab_type": "text",
    "id": "ghgeCSyFwIpB"
   },
   "source": [
    "### Exercise: Numpy"
   ]
  },
  {
   "cell_type": "code",
   "execution_count": null,
   "metadata": {
    "colab": {},
    "colab_type": "code",
    "id": "HSlTu37AwIYM"
   },
   "outputs": [],
   "source": [
    "Ex 1. Write a NumPy program to convert a list of numeric values into a one-dimensional NumPy array. \n",
    "Original List: [12.23, 13.32, 100, 36.32]\n",
    "One-dimensional NumPy array: [ 12.23 13.32 100. 36.32]"
   ]
  },
  {
   "cell_type": "code",
   "execution_count": 22,
   "metadata": {
    "colab": {},
    "colab_type": "code",
    "id": "qj4zlTuvxevf"
   },
   "outputs": [
    {
     "name": "stdout",
     "output_type": "stream",
     "text": [
      "Original List: [12.23, 13.32, 100, 36.32]\n",
      "One-dimensional NumPy array:  [ 12.23  13.32 100.    36.32]\n"
     ]
    }
   ],
   "source": [
    "# Complete responses to Ex1 here, e.g. mylist=[12.23, 13.32, 100, 36.32]\n",
    "import numpy as np\n",
    "l = [12.23, 13.32, 100, 36.32]\n",
    "print(\"Original List:\",l)\n",
    "a = np.array(l)\n",
    "print(\"One-dimensional NumPy array: \",a)"
   ]
  },
  {
   "cell_type": "markdown",
   "metadata": {
    "colab_type": "text",
    "id": "7ly6voRcx543"
   },
   "source": [
    "Ex2: Write a NumPy program to create a null vector of size 10 and update its sixth value to 11\n",
    "\n",
    "Expected Output: \n",
    "```\n",
    "[ 0. 0. 0. 0. 0. 0. 11. 0. 0. 0.]```"
   ]
  },
  {
   "cell_type": "code",
   "execution_count": 23,
   "metadata": {
    "colab": {},
    "colab_type": "code",
    "id": "B_LPtMwxxoA7"
   },
   "outputs": [
    {
     "name": "stdout",
     "output_type": "stream",
     "text": [
      "[0. 0. 0. 0. 0. 0. 0. 0. 0. 0.]\n",
      "Update sixth value to 11\n",
      "[ 0.  0.  0.  0.  0.  0. 11.  0.  0.  0.]\n"
     ]
    }
   ],
   "source": [
    "# Complete responses to Ex2 here\n",
    "import numpy as np\n",
    "x = np.zeros(10)\n",
    "print(x)\n",
    "print(\"Update sixth value to 11\")\n",
    "x[6] = 11\n",
    "print(x)"
   ]
  },
  {
   "cell_type": "markdown",
   "metadata": {
    "colab_type": "text",
    "id": "LhjrCjaoxqdw"
   },
   "source": [
    "Ex3: Write a NumPy program to create a 3x3 matrix with values ranging from 2 to 10.\n",
    "\n",
    "Expected Output:\n",
    "```\n",
    "[[ 2 3 4]\n",
    "[ 5 6 7]\n",
    "[ 8 9 10]]```"
   ]
  },
  {
   "cell_type": "code",
   "execution_count": 24,
   "metadata": {
    "colab": {},
    "colab_type": "code",
    "id": "lPOaKHenxqwu"
   },
   "outputs": [
    {
     "name": "stdout",
     "output_type": "stream",
     "text": [
      "[[ 2  3  4]\n",
      " [ 5  6  7]\n",
      " [ 8  9 10]]\n"
     ]
    }
   ],
   "source": [
    "# Complete responses to Ex3 here\n",
    "import numpy as np\n",
    "x =  np.arange(2, 11).reshape(3,3)\n",
    "print(x)"
   ]
  },
  {
   "cell_type": "markdown",
   "metadata": {
    "colab_type": "text",
    "id": "CvYHPABcx_Cc"
   },
   "source": [
    "Ex4: Write a NumPy program to create a 8x8 matrix and fill it with a checkerboard pattern.\n",
    "\n",
    "Checkerboard pattern:\n",
    "```\n",
    "[[0 1 0 1 0 1 0 1]\n",
    "..........\n",
    "[0 1 0 1 0 1 0 1]\n",
    "[1 0 1 0 1 0 1 0]]\n",
    "```\n",
    "\n",
    "\n"
   ]
  },
  {
   "cell_type": "code",
   "execution_count": 25,
   "metadata": {
    "colab": {},
    "colab_type": "code",
    "id": "xNrhyb4exYbf"
   },
   "outputs": [
    {
     "name": "stdout",
     "output_type": "stream",
     "text": [
      "Checkerboard pattern:\n",
      "[[0 1 0 1 0 1 0 1]\n",
      " [1 0 1 0 1 0 1 0]\n",
      " [0 1 0 1 0 1 0 1]\n",
      " [1 0 1 0 1 0 1 0]\n",
      " [0 1 0 1 0 1 0 1]\n",
      " [1 0 1 0 1 0 1 0]\n",
      " [0 1 0 1 0 1 0 1]\n",
      " [1 0 1 0 1 0 1 0]]\n"
     ]
    }
   ],
   "source": [
    "# Complete responses to Ex4 here\n",
    "import numpy as np\n",
    "x = np.ones((3,3))\n",
    "print(\"Checkerboard pattern:\")\n",
    "x = np.zeros((8,8),dtype=int)\n",
    "x[1::2,::2] = 1\n",
    "x[::2,1::2] = 1\n",
    "print(x)"
   ]
  },
  {
   "cell_type": "markdown",
   "metadata": {
    "colab_type": "text",
    "id": "1d__PvwdyK48"
   },
   "source": [
    "Ex5: Write a NumPy program to append values to the end of an array\n",
    "\n",
    "Original array: \n",
    "```[10, 20, 30]```\n",
    "\n",
    "After append values to the end of the array:\n",
    "```[10 20 30 40 50 60 70 80 90]```"
   ]
  },
  {
   "cell_type": "code",
   "execution_count": 26,
   "metadata": {
    "colab": {},
    "colab_type": "code",
    "id": "6QEJ2NibyKLN"
   },
   "outputs": [
    {
     "name": "stdout",
     "output_type": "stream",
     "text": [
      "Original array:\n",
      "[10, 20, 30]\n",
      "After append values to the end of the array:\n",
      "[10 20 30 40 50 60 70 80 90]\n"
     ]
    }
   ],
   "source": [
    "# Complete responses to Ex5 here\n",
    "import numpy as np\n",
    "x = [10, 20, 30]\n",
    "print(\"Original array:\")\n",
    "print(x)\n",
    "x = np.append(x, [[40, 50, 60], [70, 80, 90]])\n",
    "print(\"After append values to the end of the array:\")\n",
    "print(x)"
   ]
  },
  {
   "cell_type": "markdown",
   "metadata": {
    "colab_type": "text",
    "id": "ftNlXe4EytDi"
   },
   "source": [
    "Ex6: Write a NumPy program to find common values between two arrays. \n",
    "\n",
    "Array1: ```[ 0 10 20 40 60]```\n",
    "\n",
    "Array2: ```[10, 30, 40]```\n",
    "\n",
    "Common values between two arrays:``` [10 40]```"
   ]
  },
  {
   "cell_type": "code",
   "execution_count": 27,
   "metadata": {
    "colab": {},
    "colab_type": "code",
    "id": "gz3jIFmEytTU"
   },
   "outputs": [
    {
     "name": "stdout",
     "output_type": "stream",
     "text": [
      "Array1:  [ 0 10 20 40 60]\n",
      "Array2:  [10, 30, 40]\n",
      "Common values between two arrays:\n",
      "[10 40]\n"
     ]
    }
   ],
   "source": [
    "# Complete responses to Ex6 here\n",
    "import numpy as np\n",
    "array1 = np.array([0, 10, 20, 40, 60])\n",
    "print(\"Array1: \",array1)\n",
    "array2 = [10, 30, 40]\n",
    "print(\"Array2: \",array2)\n",
    "print(\"Common values between two arrays:\")\n",
    "print(np.intersect1d(array1, array2))"
   ]
  },
  {
   "cell_type": "markdown",
   "metadata": {
    "colab_type": "text",
    "id": "sfwEs9Jrk187"
   },
   "source": [
    "### 9) Conditional (if) statements"
   ]
  },
  {
   "attachments": {},
   "cell_type": "markdown",
   "metadata": {
    "colab_type": "text",
    "id": "Bwd3kLYnk_8Q"
   },
   "source": [
    "Similar to the steps of a decision trees, conditional statements can be formulated in Python as: \n",
    "\n",
    "```if condition:\n",
    "    statement\n",
    "    statement```  \n",
    "\n",
    "The conditional statement must evaluate to a boolean (```True/False```)  but otherwise there are few constraints. The  decision tree below can be transcript as follows:\n",
    "<img src=\"HF_decision_tree.png\" height=\"400\">\n"
   ]
  },
  {
   "cell_type": "code",
   "execution_count": 37,
   "metadata": {
    "colab": {},
    "colab_type": "code",
    "id": "TUHkRaXIk_8W"
   },
   "outputs": [
    {
     "name": "stdout",
     "output_type": "stream",
     "text": [
      "HFrEF\n"
     ]
    }
   ],
   "source": [
    "LVEF = int(input('Please introduce value for LVEF: '))\n",
    "\n",
    "if LVEF > 50:\n",
    "    print('HFpEF')\n",
    "else:\n",
    "    if LVEF < 40:\n",
    "        print('HFrEF')\n",
    "    else:\n",
    "        print('HFmEF')"
   ]
  },
  {
   "cell_type": "markdown",
   "metadata": {
    "colab_type": "text",
    "id": "xmDtSalLk_8n"
   },
   "source": [
    "All forms of conditional statement (described in (6)) may be used, including use or ```is/and/or``` statements e.g. "
   ]
  },
  {
   "cell_type": "code",
   "execution_count": null,
   "metadata": {
    "colab": {},
    "colab_type": "code",
    "id": "lS1PVj1Tk_8q"
   },
   "outputs": [],
   "source": [
    "a=10\n",
    "b=12\n",
    "\n",
    "if a< 15 and b > 10:\n",
    "    print('run the following block of code')\n"
   ]
  },
  {
   "cell_type": "markdown",
   "metadata": {
    "colab_type": "text",
    "id": "eRbUrlewk_83"
   },
   "source": [
    "The \"in\" operator can also be used to check if a specified object exists within an iterable object container, such as a list:"
   ]
  },
  {
   "cell_type": "code",
   "execution_count": null,
   "metadata": {
    "colab": {},
    "colab_type": "code",
    "id": "IJaa6Y4Ck_8_"
   },
   "outputs": [],
   "source": [
    "name = \"John\"\n",
    "if name in [\"John\", \"Dave\"]:\n",
    "    print(\"The person's name is either John or Dave.\")"
   ]
  },
  {
   "cell_type": "markdown",
   "metadata": {
    "colab_type": "text",
    "id": "Xq-Pkjdwk_9S"
   },
   "source": [
    "Series of if statements can be combined within if else statements i.e."
   ]
  },
  {
   "cell_type": "code",
   "execution_count": null,
   "metadata": {
    "colab": {},
    "colab_type": "code",
    "id": "Krc2PpKFk_9U"
   },
   "outputs": [],
   "source": [
    "BMI=20\n",
    "\n",
    "if BMI <= 18.5: # >= greater than or equal to\n",
    "    print('This person is underweight')\n",
    "elif BMI > 18.5 and BMI <=25.0:\n",
    "    print('This person has normal weight')\n",
    "elif BMI > 25.0 and BMI <=30.0 :\n",
    "    print('This person is overweight')\n",
    "else:\n",
    "    print('This person is obese')\n"
   ]
  },
  {
   "attachments": {},
   "cell_type": "markdown",
   "metadata": {
    "colab_type": "text",
    "id": "hGv2XI_dk_9n"
   },
   "source": [
    "EXERCISES:\n",
    "\n",
    "Ex1) try changing the BMI and exploring the response\n",
    "\n",
    "Ex2) Try reproducing the following decision tree and play with the input values to verify the final decision:\n",
    "\n",
    "<img src=\"IHCA_decision_tree.png\" height=\"400\">\n",
    "\n",
    "Decision tree from [1]\n",
    "[1] Li, Hong, et al. \"Decision tree model for predicting in‐hospital cardiac arrest among patients admitted with acute coronary syndrome.\" Clinical cardiology 42.11 (2019): 1087-1093."
   ]
  },
  {
   "cell_type": "code",
   "execution_count": 61,
   "metadata": {},
   "outputs": [
    {
     "name": "stdout",
     "output_type": "stream",
     "text": [
      "Please introduce value for ViEWS: 6\n",
      "Please introduce fatal arrhythmia status (yes = 1, no = 0):1\n",
      "Please introduce diabetes status (yes = 1, no = 0):1\n",
      "Please introduce Killip class (class І = 1, II = 2, III = 3, IV = 4):1\n",
      "Please introduce value for blood urea nitrogen (BUN):5\n",
      "Please introduce value for cardiac troponin I (cTnI):2\n",
      "High (70%‐100%)\n"
     ]
    }
   ],
   "source": [
    "# complete the answer the answer to EX 2 here:\n",
    "ViEWS = int(input('Please introduce value for ViEWS: '))\n",
    "arrhythmia = int(input('Please introduce fatal arrhythmia status (yes = 1, no = 0):'))\n",
    "diabetes = int(input('Please introduce diabetes status (yes = 1, no = 0):'))\n",
    "Killip = int(input('Please introduce Killip class (class І = 1, II = 2, III = 3, IV = 4):'))\n",
    "BUN = int(input('Please introduce value for blood urea nitrogen (BUN):'))\n",
    "cTnI = int(input('Please introduce value for cardiac troponin I (cTnI):'))\n",
    "\n",
    "if ViEWS < 5:\n",
    "    if arrhythmia:\n",
    "        if Killip > 2:\n",
    "            if cTnI >= 28:\n",
    "                print('High (70%‐100%)')\n",
    "            else:\n",
    "                if BUN < 7.9:\n",
    "                    print('Moderate (40%‐69%)')\n",
    "                else:\n",
    "                    print('Low (<40%)')  \n",
    "        else:\n",
    "            print('Low (<40%)')\n",
    "\n",
    "    else:\n",
    "        print('Low (<40%)')\n",
    "else:\n",
    "    if diabetes:\n",
    "        print('High (70%‐100%)')\n",
    "    else:\n",
    "        if age < 64:\n",
    "            print('Low (<40%)')\n",
    "        else:\n",
    "            print('Moderate (40%‐69%)')\n"
   ]
  },
  {
   "cell_type": "markdown",
   "metadata": {
    "colab_type": "text",
    "id": "yyVjfv3ck_9o"
   },
   "source": [
    "### 10) ```For``` statements"
   ]
  },
  {
   "cell_type": "markdown",
   "metadata": {
    "colab_type": "text",
    "id": "lIxGunjFk_9r"
   },
   "source": [
    "For loops iterate over a given sequence, for example as given by a list:"
   ]
  },
  {
   "cell_type": "code",
   "execution_count": null,
   "metadata": {
    "colab": {},
    "colab_type": "code",
    "id": "YbmJg1eTk_9y"
   },
   "outputs": [],
   "source": [
    "mylist=[10,20,30,40,50]\n",
    "\n",
    "for item in mylist:\n",
    "    print(item)"
   ]
  },
  {
   "cell_type": "markdown",
   "metadata": {
    "colab_type": "text",
    "id": "nEYMRKFFk_-Z"
   },
   "source": [
    "For numeric ranges, python the provides function ```range(start,end,increment)``` which provides an inline definition e.g. "
   ]
  },
  {
   "cell_type": "code",
   "execution_count": null,
   "metadata": {
    "colab": {},
    "colab_type": "code",
    "id": "-M_cVQfBk_-i"
   },
   "outputs": [],
   "source": [
    "for item in range(0,10,2):\n",
    "    print(item)"
   ]
  },
  {
   "cell_type": "markdown",
   "metadata": {
    "colab_type": "text",
    "id": "q-yuy-Z1k_-2"
   },
   "source": [
    "EXERCISE, try changing the range and adding different increments, start and end points)\n",
    "\n"
   ]
  },
  {
   "cell_type": "markdown",
   "metadata": {
    "colab_type": "text",
    "id": "AYaXfaLfl1Xe"
   },
   "source": [
    "It is possible to have  ```for ``` loops nested within each other"
   ]
  },
  {
   "cell_type": "code",
   "execution_count": null,
   "metadata": {
    "colab": {},
    "colab_type": "code",
    "id": "EBUIWjv7k_-5"
   },
   "outputs": [],
   "source": [
    "#the first code block\n",
    "myfirstlist=[10,20,30,40]\n",
    "mysecondlist=[1,2,3,4,5]\n",
    "\n",
    "for tens in myfirstlist:\n",
    "    #the second code block (a for loop over a list of integers)\n",
    "    for units in mysecondlist:\n",
    "        #the third code block (a for loop over a second list of integers)\n",
    "        new_number=tens+units\n",
    "        #print('Output of third code block; The new number is',new_number)"
   ]
  },
  {
   "cell_type": "markdown",
   "metadata": {
    "colab_type": "text",
    "id": "087F7EaXk__G"
   },
   "source": [
    "**enumerate**\n",
    "\n",
    "In some cases you might need to use the both the list item and the index of the loop. In such circumstances it is possible to use the enumerate function"
   ]
  },
  {
   "cell_type": "code",
   "execution_count": null,
   "metadata": {
    "colab": {},
    "colab_type": "code",
    "id": "lC4Xg3X2k__J"
   },
   "outputs": [],
   "source": [
    "mylist=['one','two','three','four','five']\n",
    "\n",
    "for index,item in enumerate(mylist):\n",
    "    print(index,item)"
   ]
  },
  {
   "cell_type": "markdown",
   "metadata": {
    "colab_type": "text",
    "id": "jW_qVqp1lABW"
   },
   "source": [
    "### 11) Functions"
   ]
  },
  {
   "attachments": {},
   "cell_type": "markdown",
   "metadata": {
    "colab_type": "text",
    "id": "oIFhKk8QlABX"
   },
   "source": [
    "Functions allow compact structuring of sections of code that are intended to be used more than once in a progam (or indeed multiple programs). \n",
    "\n",
    "A function in Python is defined by a ```def``` statement. In pseudocode, the general syntax looks like this:\n",
    "\n",
    "``` \n",
    "def myfunction(arg1,arg2,arg3): # function definition (with optional) input arguments; \n",
    "    \n",
    "    body of code to be repeated\n",
    "    \n",
    "    return someval1, someval2 \n",
    "    ```\n",
    "\n",
    "Note the colon at the end of the function header, and the use of indentation within the body of the function. Inside the function are lines of code that would otherwise by repeated multiple times in the program. The function then returns (optionally returning output arguments). For simple functions the function can be returned in one line e.g."
   ]
  },
  {
   "cell_type": "code",
   "execution_count": 33,
   "metadata": {
    "colab": {},
    "colab_type": "code",
    "id": "OZtqEYJtlABX"
   },
   "outputs": [
    {
     "name": "stdout",
     "output_type": "stream",
     "text": [
      "sum of 5 and 10 is 15\n"
     ]
    }
   ],
   "source": [
    "# define function\n",
    "def sum(x,y):\n",
    "    return x+y # here as the function is simple it can be returned in one line\n",
    "\n",
    "# apply function\n",
    "\n",
    "a=5\n",
    "b=10\n",
    "\n",
    "print('sum of {} and {} is {}'.format(a,b,sum(a,b)))"
   ]
  },
  {
   "cell_type": "markdown",
   "metadata": {
    "colab_type": "text",
    "id": "p30QUX2nlABc"
   },
   "source": [
    "It is also possible to supply optional input arguments with default values e.g."
   ]
  },
  {
   "cell_type": "code",
   "execution_count": null,
   "metadata": {
    "colab": {},
    "colab_type": "code",
    "id": "ZwkKrtvhlABd"
   },
   "outputs": [],
   "source": [
    "# this function can thus return a sum of 2 or 3 arguments\n",
    "def sum2(x,y,z=0):\n",
    "    return x+y+z \n",
    "\n",
    "# apply function\n",
    "\n",
    "a=5\n",
    "b=10\n",
    "c=20\n",
    "\n",
    "print('sum of {} and {} is {}'.format(a,b,sum2(a,b)))\n",
    "print('sum of {},{} and {} is {}'.format(a,b,c, sum2(a,b,c)))"
   ]
  },
  {
   "cell_type": "markdown",
   "metadata": {
    "colab_type": "text",
    "id": "4E-pbo77lABg"
   },
   "source": [
    "Or specify which exact optional arguments will be required the use through use of keywords (referencing the specific argument name in the function call):"
   ]
  },
  {
   "cell_type": "code",
   "execution_count": null,
   "metadata": {
    "colab": {},
    "colab_type": "code",
    "id": "KuXq1onmlABg"
   },
   "outputs": [],
   "source": [
    "def sumsub(x, y, z1=0, z2=0):\n",
    "    return x - y + z1 - z2\n",
    "\n",
    "# apply function\n",
    "\n",
    "a=5\n",
    "b=10\n",
    "c=20\n",
    "d=30\n",
    "\n",
    "print(sumsub(12,4))\n",
    "print(sumsub(42,15,z2=10))\n",
    "print(sumsub(42,15,z1=20, z2=10))"
   ]
  },
  {
   "cell_type": "markdown",
   "metadata": {
    "colab_type": "text",
    "id": "PTVuI1KOlAB_"
   },
   "source": [
    "### Exercises - loops and functions:"
   ]
  },
  {
   "cell_type": "markdown",
   "metadata": {
    "colab_type": "text",
    "collapsed": true,
    "id": "3n1JW0hwlACA"
   },
   "source": [
    "Ex. 1 Write a function that takes systolic and diastolic blood pressure as input and prints in which category is the subject based on the table below:\n",
    "<img src=\"BloodPressure.png\" height=\"400\">"
   ]
  },
  {
   "cell_type": "code",
   "execution_count": 41,
   "metadata": {
    "colab": {
     "base_uri": "https://localhost:8080/",
     "height": 67
    },
    "colab_type": "code",
    "executionInfo": {
     "elapsed": 9693,
     "status": "ok",
     "timestamp": 1599232038071,
     "user": {
      "displayName": "Esther Puyol",
      "photoUrl": "https://lh3.googleusercontent.com/a-/AOh14GgZ5dwQQaWzw8aJu23hC9vdKeJwPEo4DJHmFmNnPA=s64",
      "userId": "17197960287230661203"
     },
     "user_tz": -60
    },
    "id": "S_D_W5t9lACA",
    "outputId": "2d359bff-e85d-4024-e38d-52d3943d766b"
   },
   "outputs": [
    {
     "name": "stdout",
     "output_type": "stream",
     "text": [
      "Please introduce value for systolic blood pressure: 121\n",
      "Please introduce value for diastolic blood pressure: 77\n",
      "TODO\n"
     ]
    }
   ],
   "source": [
    "# Blood pressure function\n",
    "def blood_pressure(sytolic_bp, diastolic_bp):\n",
    "  # Write conditions, use print to show the category assigned \n",
    "  print('TODO')\n",
    "\n",
    "sytolic_bp = int(input('Please introduce value for systolic blood pressure: '))\n",
    "diastolic_bp = int(input('Please introduce value for diastolic blood pressure: '))\n",
    "blood_pressure(sytolic_bp, diastolic_bp)"
   ]
  },
  {
   "cell_type": "code",
   "execution_count": 62,
   "metadata": {},
   "outputs": [
    {
     "name": "stdout",
     "output_type": "stream",
     "text": [
      "Hypertension stage 1\n"
     ]
    }
   ],
   "source": [
    "# complete the answer the answer to EX 1 here:\n",
    "def blood_pressure(sytolic_bp, diastolic_bp):\n",
    "    # Write conditions, use print to show the category assigned \n",
    "    if (sytolic_bp < 120 and diastolic_bp < 80):\n",
    "        print('Normal')\n",
    "    elif (120 < sytolic_bp <= 129 and diastolic_bp < 80):\n",
    "        print('Elevated')\n",
    "    elif (130 <= sytolic_bp <= 139 or 80 <= diastolic_bp < 89):\n",
    "        print('Hypertension stage 1')\n",
    "    elif (sytolic_bp > 180 or diastolic_bp > 120):\n",
    "        print('Consult your doctor immediately')\n",
    "    elif (140 <= sytolic_bp < 180 or 90 <= diastolic_bp < 120):\n",
    "        print('Hypertension stage 2')\n",
    "\n",
    "blood_pressure(sytolic_bp, diastolic_bp)"
   ]
  },
  {
   "cell_type": "markdown",
   "metadata": {
    "colab_type": "text",
    "id": "mynXFRWMlACD"
   },
   "source": [
    "Ex 2. Write a list that simulates 10 subjects, and and for each specify their systolic and diastolic blood pressure. Use a for loop and the function in exercise 1 to display the category for each subject"
   ]
  },
  {
   "cell_type": "code",
   "execution_count": 75,
   "metadata": {
    "colab": {},
    "colab_type": "code",
    "id": "w1xJzfyelACE"
   },
   "outputs": [
    {
     "name": "stdout",
     "output_type": "stream",
     "text": [
      "Subject 0 -> Sytolic bp = 177 and diastolic bp = 65\n",
      "Hypertension stage 2\n",
      "Subject 1 -> Sytolic bp = 125 and diastolic bp = 95\n",
      "Hypertension stage 2\n",
      "Subject 2 -> Sytolic bp = 94 and diastolic bp = 91\n",
      "Hypertension stage 2\n",
      "Subject 3 -> Sytolic bp = 106 and diastolic bp = 77\n",
      "Normal\n",
      "Subject 4 -> Sytolic bp = 125 and diastolic bp = 89\n",
      "Subject 5 -> Sytolic bp = 158 and diastolic bp = 108\n",
      "Hypertension stage 2\n",
      "Subject 6 -> Sytolic bp = 108 and diastolic bp = 81\n",
      "Hypertension stage 1\n",
      "Subject 7 -> Sytolic bp = 142 and diastolic bp = 125\n",
      "Consult your doctor immediately\n",
      "Subject 8 -> Sytolic bp = 152 and diastolic bp = 75\n",
      "Hypertension stage 2\n",
      "Subject 9 -> Sytolic bp = 94 and diastolic bp = 82\n",
      "Hypertension stage 1\n"
     ]
    }
   ],
   "source": [
    "# complete the answer the answer to EX 2 here:\n",
    "import random\n",
    "for i in np.arange(10):\n",
    "    sytolic_bp = random.randint(90, 200)\n",
    "    diastolic_bp = random.randint(60, 130)\n",
    "    print('Subject {} -> Sytolic bp = {} and diastolic bp = {}'.format(i, sytolic_bp, diastolic_bp))\n",
    "    blood_pressure(sytolic_bp, diastolic_bp)"
   ]
  },
  {
   "cell_type": "code",
   "execution_count": null,
   "metadata": {},
   "outputs": [],
   "source": []
  }
 ],
 "metadata": {
  "colab": {
   "name": "IntroPython.ipynb",
   "provenance": []
  },
  "kernelspec": {
   "display_name": "Python 3",
   "language": "python",
   "name": "python3"
  },
  "language_info": {
   "codemirror_mode": {
    "name": "ipython",
    "version": 3
   },
   "file_extension": ".py",
   "mimetype": "text/x-python",
   "name": "python",
   "nbconvert_exporter": "python",
   "pygments_lexer": "ipython3",
   "version": "3.8.3"
  }
 },
 "nbformat": 4,
 "nbformat_minor": 1
}
